{
  "nbformat": 4,
  "nbformat_minor": 0,
  "metadata": {
    "colab": {
      "provenance": [],
      "authorship_tag": "ABX9TyOVQBYeEh96VOiPX1dgowVd",
      "include_colab_link": true
    },
    "kernelspec": {
      "name": "python3",
      "display_name": "Python 3"
    },
    "language_info": {
      "name": "python"
    }
  },
  "cells": [
    {
      "cell_type": "markdown",
      "metadata": {
        "id": "view-in-github",
        "colab_type": "text"
      },
      "source": [
        "<a href=\"https://colab.research.google.com/github/ryandoyle5401/CMPSC472HW14/blob/main/HW14.ipynb\" target=\"_parent\"><img src=\"https://colab.research.google.com/assets/colab-badge.svg\" alt=\"Open In Colab\"/></a>"
      ]
    },
    {
      "cell_type": "code",
      "execution_count": 17,
      "metadata": {
        "colab": {
          "base_uri": "https://localhost:8080/"
        },
        "id": "We4XdAIDEq63",
        "outputId": "13714b76-ee1b-4bbe-af90-388956b2a389"
      },
      "outputs": [
        {
          "output_type": "stream",
          "name": "stdout",
          "text": [
            "Overwriting test.c\n"
          ]
        }
      ],
      "source": [
        "%%writefile test.c\n",
        "\n",
        "#include <stdio.h>\n",
        "#include <stdlib.h>\n",
        "#include <unistd.h>\n",
        "#include <fcntl.h>\n",
        "#include <sys/stat.h>\n",
        "#include <sys/types.h>\n",
        "#include <string.h>\n",
        "#include <pthread.h>\n",
        "#include <semaphore.h>\n",
        "\n",
        "#define BUFFER_SIZE 1024\n",
        "\n",
        "// Semaphore to synchronize access to the file\n",
        "//sem_t sem_file;\n",
        "\n",
        "// Used for creating and writing to a file. Probably create a function for writing to a file.\n",
        "int create_file(const char *filename) {\n",
        "    int fd = open(filename, O_CREAT | O_TRUNC | O_RDWR | O_APPEND);\n",
        "    if (fd == -1) {\n",
        "        perror(\"open\");\n",
        "        exit(EXIT_FAILURE);\n",
        "    }\n",
        "\n",
        "    printf(\"File '%s' created.\\n\", filename);\n",
        "    return fd;\n",
        "}\n",
        "\n",
        "// Used for writing to a file.\n",
        "void write_file(int fd, const char *data) {\n",
        "    if (write(fd, data, strlen(data)) == -1) {\n",
        "        perror(\"write\");\n",
        "        close(fd);\n",
        "        exit(EXIT_FAILURE);\n",
        "    }\n",
        "}\n",
        "\n",
        "// Used for reading from a file.\n",
        "void read_file(int fd) {\n",
        "    char buffer[BUFFER_SIZE];\n",
        "    ssize_t bytes_read;\n",
        "    lseek(fd, 0, SEEK_SET);  // Move file pointer to the start of the file\n",
        "    // Read data from the file\n",
        "    bytes_read = read(fd, buffer, BUFFER_SIZE-1);\n",
        "    if (bytes_read == -1) {\n",
        "        perror(\"read\");\n",
        "        close(fd);\n",
        "        exit(EXIT_FAILURE);\n",
        "    }\n",
        "\n",
        "    // Null-terminate the buffer to print as string\n",
        "    buffer[bytes_read] = '\\0';\n",
        "\n",
        "    printf(\"Read from file: %s\\n\", buffer);\n",
        "}\n",
        "\n",
        "// Used to check lock status\n",
        "void check_lock(int fd, struct flock *fl) {\n",
        "    // Check the lock status using the same `fl` struct\n",
        "    if (fcntl(fd ,F_GETLK, fl) == 0 && fl->l_type != F_UNLCK) {\n",
        "        printf(\"Child: File is locked by another process (PID: %d), cannot write.\\n\", fl->l_pid);\n",
        "    } else {\n",
        "        printf(\"Child: Lock is free, writing to the file.\\n\");\n",
        "        write_file(fd, \"Child writing to file.\\n\");\n",
        "        read_file(fd);\n",
        "    }\n",
        "}\n",
        "\n",
        "// Used to release the lock\n",
        "void release_lock(int fd, struct flock *fl) {\n",
        "    // Release the lock\n",
        "    fl->l_type = F_UNLCK;\n",
        "    fcntl(fd, F_SETLK, fl);\n",
        "}\n",
        "\n",
        "int main() {\n",
        "    const char *filename = \"testfile.txt\";\n",
        "\n",
        "    // Create a file and write to it\n",
        "    int fd = create_file(filename);\n",
        "\n",
        "    // Structure for flock data structure\n",
        "    struct flock fl;\n",
        "    memset(&fl, 0, sizeof(fl));\n",
        "\n",
        "    fl.l_type = F_WRLCK;  // Exclusive write lock\n",
        "    fl.l_whence = SEEK_SET;\n",
        "    fl.l_start = 0;       // Start of the file\n",
        "    fl.l_len = 0;         // Lock entire file\n",
        "    fl.l_pid = getpid();\n",
        "\n",
        "    // Parent process applies the lock\n",
        "    if (fcntl(fd, F_SETLK, &fl) == -1) {\n",
        "        perror(\"Failed to set lock by parent\");\n",
        "        close(fd);\n",
        "        exit(1);\n",
        "    }\n",
        "    printf(\"Parent: File locked.\\n\");\n",
        "\n",
        "    pid_t child_pid = fork();\n",
        "\n",
        "    if (child_pid == 0) { // Child process\n",
        "        // Check lock status. If unlocked, read or write to file.\n",
        "        check_lock(fd, &fl);\n",
        "        sleep(3);\n",
        "        check_lock(fd, &fl);\n",
        "    } else { // Parent process\n",
        "        // While Parent process has file locked, perform some reading and writing.\n",
        "        sleep(1); // Delay to let child try writing\n",
        "        printf(\"Parent: Writing to the file.\\n\");\n",
        "        write_file(fd, \"Parent process says hello.\\n\");\n",
        "        read_file(fd);\n",
        "        // Release the lock. Allows child to read/write.\n",
        "        release_lock(fd, &fl);\n",
        "    }\n",
        "\n",
        "    // Close file descriptor\n",
        "    close(fd);\n",
        "    return 0;\n",
        "}\n",
        "\n",
        "\n",
        "/*\n",
        "To do:\n",
        "- modify program to create threads to do the reading/writing\n",
        "\n",
        "How to do this:\n",
        "- create two thread functions: one for reading, one for writing\n",
        "\n",
        "Currently working on reading the file. It seems like all text from previous runs are still within this file. May have to delete file after program completes.\n",
        "*/"
      ]
    },
    {
      "cell_type": "code",
      "source": [
        "%%shell\n",
        "gcc test.c -o test\n",
        "./test"
      ],
      "metadata": {
        "colab": {
          "base_uri": "https://localhost:8080/"
        },
        "id": "tTaILflFE1TE",
        "outputId": "0088dcd9-51c1-40ac-9e27-6a9776727e7c"
      },
      "execution_count": 18,
      "outputs": [
        {
          "output_type": "stream",
          "name": "stdout",
          "text": [
            "File 'testfile.txt' created.\n",
            "Parent: File locked.\n",
            "Child: File is locked by another process (PID: 1164), cannot write.\n",
            "Parent: Writing to the file.\n",
            "Read from file: Parent process says hello.\n",
            "\n",
            "Child: Lock is free, writing to the file.\n",
            "Read from file: Parent process says hello.\n",
            "Child writing to file.\n",
            "\n"
          ]
        },
        {
          "output_type": "execute_result",
          "data": {
            "text/plain": []
          },
          "metadata": {},
          "execution_count": 18
        }
      ]
    }
  ]
}