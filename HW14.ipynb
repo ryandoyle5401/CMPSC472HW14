{
  "nbformat": 4,
  "nbformat_minor": 0,
  "metadata": {
    "colab": {
      "provenance": [],
      "authorship_tag": "ABX9TyNh5J8w9sN5wjhDkJ+Xxabs",
      "include_colab_link": true
    },
    "kernelspec": {
      "name": "python3",
      "display_name": "Python 3"
    },
    "language_info": {
      "name": "python"
    }
  },
  "cells": [
    {
      "cell_type": "markdown",
      "metadata": {
        "id": "view-in-github",
        "colab_type": "text"
      },
      "source": [
        "<a href=\"https://colab.research.google.com/github/ryandoyle5401/CMPSC472HW14/blob/main/HW14.ipynb\" target=\"_parent\"><img src=\"https://colab.research.google.com/assets/colab-badge.svg\" alt=\"Open In Colab\"/></a>"
      ]
    },
    {
      "cell_type": "code",
      "execution_count": null,
      "metadata": {
        "colab": {
          "base_uri": "https://localhost:8080/"
        },
        "id": "We4XdAIDEq63",
        "outputId": "7d1a43c8-36ad-445d-e995-c844f8a6aa91"
      },
      "outputs": [
        {
          "output_type": "stream",
          "name": "stdout",
          "text": [
            "Overwriting test.c\n"
          ]
        }
      ],
      "source": [
        "%%writefile test.c\n",
        "\n",
        "#include <stdio.h>\n",
        "#include <stdlib.h>\n",
        "#include <unistd.h>\n",
        "#include <fcntl.h>\n",
        "#include <sys/stat.h>\n",
        "#include <sys/types.h>\n",
        "#include <string.h>\n",
        "#include <pthread.h>\n",
        "\n",
        "#define BUFFER_SIZE 1024\n",
        "\n",
        "\n",
        "//Note: the create_file, read_file are from the CMPSC472_11 colab.\n",
        "\n",
        "// Used for creating and writing to a file. Probably create a function for writing to a file.\n",
        "void create_file(const char *filename) {\n",
        "    int fd = open(filename, O_CREAT | O_RDWR | O_TRUNC, S_IRUSR | S_IWUSR); /* The S_IRUSR and S_IWUSR flags are used to set the permissions for the newly created file.*/\n",
        "    if (fd == -1) {\n",
        "        perror(\"open\");\n",
        "        exit(EXIT_FAILURE);\n",
        "    }\n",
        "\n",
        "    // Write some data to the file\n",
        "    const char *data = \"Hello, ext4!\";\n",
        "    if (write(fd, \"Writing to file\\n\", 17) == -1) {\n",
        "        perror(\"write\");\n",
        "        close(fd);\n",
        "        exit(EXIT_FAILURE);\n",
        "    }\n",
        "\n",
        "    printf(\"File '%s' created and written.\\n\", filename);\n",
        "\n",
        "    // Close the file descriptor\n",
        "    close(fd);\n",
        "}\n",
        "\n",
        "// Used for reading from a file.\n",
        "void read_file(const char *filename) {\n",
        "    int fd = open(filename, O_RDONLY);\n",
        "    if (fd == -1) {\n",
        "        perror(\"open\");\n",
        "        exit(EXIT_FAILURE);\n",
        "    }\n",
        "\n",
        "    char buffer[BUFFER_SIZE];\n",
        "    ssize_t bytes_read;\n",
        "\n",
        "    // Read data from the file\n",
        "    bytes_read = read(fd, buffer, BUFFER_SIZE-1);\n",
        "    if (bytes_read == -1) {\n",
        "        perror(\"read\");\n",
        "        close(fd);\n",
        "        exit(EXIT_FAILURE);\n",
        "    }\n",
        "\n",
        "    // Null-terminate the buffer to print as string\n",
        "    buffer[bytes_read] = '\\0';\n",
        "\n",
        "    printf(\"Read from file '%s': %s\\n\", filename, buffer);\n",
        "\n",
        "    // Close the file descriptor\n",
        "    close(fd);\n",
        "}\n",
        "\n",
        "int main() {\n",
        "    printf(\"Hello World\\n\");\n",
        "    const char *filename = \"ext4_testfile.txt\";\n",
        "\n",
        "    // Create a file and write to it\n",
        "    create_file(filename);\n",
        "\n",
        "    // Read from the file\n",
        "    read_file(filename);\n",
        "\n",
        "\n",
        "    return 0;\n",
        "}\n"
      ]
    },
    {
      "cell_type": "code",
      "source": [
        "%%shell\n",
        "gcc test.c -o test\n",
        "./test"
      ],
      "metadata": {
        "colab": {
          "base_uri": "https://localhost:8080/"
        },
        "id": "tTaILflFE1TE",
        "outputId": "34c6686d-d103-42ab-bd6b-fd5a5d2c8540"
      },
      "execution_count": null,
      "outputs": [
        {
          "output_type": "stream",
          "name": "stdout",
          "text": [
            "Hello World\n",
            "File 'ext4_testfile.txt' created and written.\n",
            "Read from file 'ext4_testfile.txt': Writing to file\n",
            "\n"
          ]
        },
        {
          "output_type": "execute_result",
          "data": {
            "text/plain": []
          },
          "metadata": {},
          "execution_count": 12
        }
      ]
    },
    {
      "cell_type": "code",
      "source": [
        "%%writefile test.c\n",
        "#include <stdio.h>\n",
        "#include <unistd.h>\n",
        "#include <fcntl.h>\n",
        "#include <string.h>\n",
        "#include <stdlib.h>\n",
        "\n",
        "int main() {\n",
        "    int fd = open(\"example.txt\", O_RDWR | O_CREAT, S_IRUSR | S_IWUSR);\n",
        "    if (fd == -1) {\n",
        "        perror(\"Failed to open file\");\n",
        "        exit(1);\n",
        "    }\n",
        "\n",
        "\n",
        "\n",
        "\n",
        "\n",
        "\n",
        "// Note: This code is kind of the answer to the hw. Just need to modify to include semaphores\n",
        "\n",
        "\n",
        "\n",
        "\n",
        "\n",
        "    struct flock fl;\n",
        "    memset(&fl, 0, sizeof(fl));\n",
        "\n",
        "    fl.l_type = F_WRLCK;  // Exclusive write lock\n",
        "    fl.l_whence = SEEK_SET;\n",
        "    fl.l_start = 0;       // Start of the file\n",
        "    fl.l_len = 0;         // Lock entire file\n",
        "    fl.l_pid = getpid();\n",
        "\n",
        "    // Parent process applies the lock\n",
        "    if (fcntl(fd, F_SETLK, &fl) == -1) {\n",
        "        perror(\"Failed to set lock by parent\");\n",
        "        close(fd);\n",
        "        exit(1);\n",
        "    }\n",
        "    printf(\"Parent: File locked.\\n\");\n",
        "\n",
        "    pid_t child_pid = fork();\n",
        "\n",
        "    if (child_pid == 0) { // Child process\n",
        "        // Check the lock status using the same `fl` struct\n",
        "        if (fcntl(fd ,F_GETLK , &fl) == 0 && fl.l_type != F_UNLCK) { //use F_GETLK, fl_type, and F_UNLCK to fill out the code\n",
        "            printf(\"Child: File is locked by another process (PID: %d), cannot write.\\n\", fl.l_pid);\n",
        "        } else {\n",
        "            printf(\"Child: Lock is free, writing to the file.\\n\");\n",
        "            write(fd, \"Child process writes to the file.\\n\", 33);\n",
        "        }\n",
        "        sleep(1); // Delay to let child try writing\n",
        "        // Check the lock status using the same `fl` struct\n",
        "        if (fcntl(fd, F_GETLK, &fl) == 0 && fl.l_type != F_UNLCK) {\n",
        "            printf(\"Child: File is locked by another process (PID: %d), cannot write.\\n\", fl.l_pid);\n",
        "        } else {\n",
        "            printf(\"Child: Lock is free, writing to the file.\\n\");\n",
        "            write(fd, \"Child process writes to the file.\\n\", 33);\n",
        "        }\n",
        "\n",
        "    } else { // Parent process\n",
        "        sleep(0.5); // Delay to let child try writing\n",
        "        printf(\"Parent: Writing to the file.\\n\");\n",
        "        write(fd, \"Parent process writes to the file.\\n\", 34);\n",
        "       // Release the lock\n",
        "        fl.l_type = F_UNLCK;\n",
        "        fcntl(fd, F_SETLK, &fl);\n",
        "    }\n",
        "\n",
        "    close(fd);\n",
        "    return 0;\n",
        "}"
      ],
      "metadata": {
        "id": "K0BmsNvMbewU"
      },
      "execution_count": null,
      "outputs": []
    }
  ]
}